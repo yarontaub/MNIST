{
 "cells": [
  {
   "cell_type": "code",
   "execution_count": 1,
   "metadata": {},
   "outputs": [],
   "source": [
    "import pandas as pd\n",
    "import numpy as np\n",
    "import matplotlib.pyplot as plt\n",
    "import matplotlib.image as mpimg\n",
    "import seaborn as sns\n",
    "import scipy\n",
    "from  scipy import ndimage\n",
    "\n",
    "from tqdm import tqdm\n",
    "from IPython.display import clear_output\n",
    "\n",
    "np.random.seed(2)\n",
    "%matplotlib inline\n",
    "sns.set(style='white', context='notebook', palette='deep')"
   ]
  },
  {
   "cell_type": "code",
   "execution_count": 2,
   "metadata": {},
   "outputs": [],
   "source": [
    "# Load the data\n",
    "train = pd.read_csv(\"train.csv\")\n",
    "#rain.head()"
   ]
  },
  {
   "cell_type": "code",
   "execution_count": 3,
   "metadata": {},
   "outputs": [
    {
     "name": "stderr",
     "output_type": "stream",
     "text": [
      "100%|██████████████████████████████████████████████████████████████████████████| 42000/42000 [00:06<00:00, 6148.44it/s]\n"
     ]
    }
   ],
   "source": [
    "Y_train = train[\"label\"]\n",
    "#print(Y_train.value_counts())\n",
    "\n",
    "X_train = train.drop(labels = [\"label\"],axis = 1) \n",
    "X_train = X_train.values.reshape(-1,28,28,1)\n",
    "\n",
    "X_trainZoom=np.zeros((X_train.shape[0],56,56,1))\n",
    "for image_id in tqdm(range(X_train.shape[0])):\n",
    "    X_trainZoom[image_id,:,:,0]=scipy.ndimage.zoom(X_train[image_id,:,:,0], 2, order=1)\n",
    "\n",
    "\n",
    "#del train "
   ]
  },
  {
   "cell_type": "code",
   "execution_count": 28,
   "metadata": {},
   "outputs": [
    {
     "name": "stdout",
     "output_type": "stream",
     "text": [
      "Iteration: 40480\n"
     ]
    },
    {
     "data": {
      "image/png": "[encoded data removed]",
      "text/plain": [
       "<matplotlib.figure.Figure at 0x200db9047f0>"
      ]
     },
     "metadata": {},
     "output_type": "display_data"
    },
    {
     "name": "stdout",
     "output_type": "stream",
     "text": [
      "number= \n",
      "1     4684\n",
      "7     4401\n",
      "3     4351\n",
      "9     4188\n",
      "2     4177\n",
      "6     4137\n",
      "0     4132\n",
      "8     4063\n",
      "5     3795\n",
      "4     3788\n",
      "10     284\n",
      "Name: label, dtype: int64\n"
     ]
    }
   ],
   "source": [
    "for i in range(40450,40481):\n",
    "    clear_output()\n",
    "    if Y_train[i]==4:\n",
    "        print(\"Iteration: \" + str(i))\n",
    "        g = plt.imshow(X_trainZoom[i][:,:,0])\n",
    "        plt.show()\n",
    "        number = input(\"number= \")\n",
    "        if number!=\"\":\n",
    "            Y_train[i]=10\n",
    "print(Y_train.value_counts())"
   ]
  },
  {
   "cell_type": "code",
   "execution_count": 29,
   "metadata": {},
   "outputs": [],
   "source": [
    "Y_train.to_csv(\"new_lables.csv\")"
   ]
  },
  {
   "cell_type": "code",
   "execution_count": null,
   "metadata": {},
   "outputs": [],
   "source": []
  }
 ],
 "metadata": {
  "kernelspec": {
   "display_name": "Python 3",
   "language": "python",
   "name": "python3"
  },
  "language_info": {
   "codemirror_mode": {
    "name": "ipython",
    "version": 3
   },
   "file_extension": ".py",
   "mimetype": "text/x-python",
   "name": "python",
   "nbconvert_exporter": "python",
   "pygments_lexer": "ipython3",
   "version": "3.6.2"
  }
 },
 "nbformat": 4,
 "nbformat_minor": 1
}
